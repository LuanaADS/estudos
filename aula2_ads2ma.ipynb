{
  "nbformat": 4,
  "nbformat_minor": 0,
  "metadata": {
    "colab": {
      "provenance": []
    },
    "kernelspec": {
      "name": "python3",
      "display_name": "Python 3"
    },
    "language_info": {
      "name": "python"
    }
  },
  "cells": [
    {
      "cell_type": "code",
      "execution_count": 1,
      "metadata": {
        "colab": {
          "base_uri": "https://localhost:8080/"
        },
        "id": "0DcgYgBahHum",
        "outputId": "3b076eec-f101-4b15-faac-d60864c45d80"
      },
      "outputs": [
        {
          "output_type": "stream",
          "name": "stdout",
          "text": [
            "<class 'str'>\n"
          ]
        }
      ],
      "source": [
        "# UNUNASSAU\n",
        "# DOCENTE: CLOVES ROCHA\n",
        "# ESTUDANTE: LUANA CARLA\n",
        "# TIPOS PRIMITIVOS DE DADOS\n",
        "\n",
        "c='luana'\n",
        "print(type(c))"
      ]
    }
  ]
}