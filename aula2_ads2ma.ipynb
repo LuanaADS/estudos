{
  "nbformat": 4,
  "nbformat_minor": 0,
  "metadata": {
    "colab": {
      "provenance": [],
      "authorship_tag": "ABX9TyNqiyyqIBwcofSMZ/4v5Krz",
      "include_colab_link": true
    },
    "kernelspec": {
      "name": "python3",
      "display_name": "Python 3"
    },
    "language_info": {
      "name": "python"
    }
  },
  "cells": [
    {
      "cell_type": "markdown",
      "metadata": {
        "id": "view-in-github",
        "colab_type": "text"
      },
      "source": [
        "<a href=\"https://colab.research.google.com/github/LuanaADS/estudos/blob/main/aula2_ads2ma.ipynb\" target=\"_parent\"><img src=\"https://colab.research.google.com/assets/colab-badge.svg\" alt=\"Open In Colab\"/></a>"
      ]
    },
    {
      "cell_type": "code",
      "execution_count": 2,
      "metadata": {
        "colab": {
          "base_uri": "https://localhost:8080/"
        },
        "id": "0DcgYgBahHum",
        "outputId": "30724dd0-6260-44c0-ada3-8d6426a344ed"
      },
      "outputs": [
        {
          "output_type": "stream",
          "name": "stdout",
          "text": [
            "<class 'str'>\n"
          ]
        }
      ],
      "source": [
        "# UNUNASSAU\n",
        "# DOCENTE: CLOVES ROCHA\n",
        "# ESTUDANTE: LUANA CARLA\n",
        "# TIPOS PRIMITIVOS DE DADOS\n",
        "\n",
        "D='LULUCA'\n",
        "\n",
        "print(type(D))"
      ]
    }
  ]
}